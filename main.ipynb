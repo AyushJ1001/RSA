{
 "cells": [
  {
   "cell_type": "code",
   "execution_count": 23,
   "metadata": {
    "collapsed": true,
    "ExecuteTime": {
     "start_time": "2023-05-15T14:30:27.492572Z",
     "end_time": "2023-05-15T14:30:27.588589Z"
    }
   },
   "outputs": [
    {
     "data": {
      "text/plain": "   work_year experience_level employment_type                 job_title   \n0       2023               SE              FT  Principal Data Scientist  \\\n1       2023               MI              CT               ML Engineer   \n2       2023               MI              CT               ML Engineer   \n3       2023               SE              FT            Data Scientist   \n4       2023               SE              FT            Data Scientist   \n\n   salary salary_currency  salary_in_usd employee_residence  remote_ratio   \n0   80000             EUR          85847                 ES           100  \\\n1   30000             USD          30000                 US           100   \n2   25500             USD          25500                 US           100   \n3  175000             USD         175000                 CA           100   \n4  120000             USD         120000                 CA           100   \n\n  company_location company_size  \n0               ES            L  \n1               US            S  \n2               US            S  \n3               CA            M  \n4               CA            M  ",
      "text/html": "<div>\n<style scoped>\n    .dataframe tbody tr th:only-of-type {\n        vertical-align: middle;\n    }\n\n    .dataframe tbody tr th {\n        vertical-align: top;\n    }\n\n    .dataframe thead th {\n        text-align: right;\n    }\n</style>\n<table border=\"1\" class=\"dataframe\">\n  <thead>\n    <tr style=\"text-align: right;\">\n      <th></th>\n      <th>work_year</th>\n      <th>experience_level</th>\n      <th>employment_type</th>\n      <th>job_title</th>\n      <th>salary</th>\n      <th>salary_currency</th>\n      <th>salary_in_usd</th>\n      <th>employee_residence</th>\n      <th>remote_ratio</th>\n      <th>company_location</th>\n      <th>company_size</th>\n    </tr>\n  </thead>\n  <tbody>\n    <tr>\n      <th>0</th>\n      <td>2023</td>\n      <td>SE</td>\n      <td>FT</td>\n      <td>Principal Data Scientist</td>\n      <td>80000</td>\n      <td>EUR</td>\n      <td>85847</td>\n      <td>ES</td>\n      <td>100</td>\n      <td>ES</td>\n      <td>L</td>\n    </tr>\n    <tr>\n      <th>1</th>\n      <td>2023</td>\n      <td>MI</td>\n      <td>CT</td>\n      <td>ML Engineer</td>\n      <td>30000</td>\n      <td>USD</td>\n      <td>30000</td>\n      <td>US</td>\n      <td>100</td>\n      <td>US</td>\n      <td>S</td>\n    </tr>\n    <tr>\n      <th>2</th>\n      <td>2023</td>\n      <td>MI</td>\n      <td>CT</td>\n      <td>ML Engineer</td>\n      <td>25500</td>\n      <td>USD</td>\n      <td>25500</td>\n      <td>US</td>\n      <td>100</td>\n      <td>US</td>\n      <td>S</td>\n    </tr>\n    <tr>\n      <th>3</th>\n      <td>2023</td>\n      <td>SE</td>\n      <td>FT</td>\n      <td>Data Scientist</td>\n      <td>175000</td>\n      <td>USD</td>\n      <td>175000</td>\n      <td>CA</td>\n      <td>100</td>\n      <td>CA</td>\n      <td>M</td>\n    </tr>\n    <tr>\n      <th>4</th>\n      <td>2023</td>\n      <td>SE</td>\n      <td>FT</td>\n      <td>Data Scientist</td>\n      <td>120000</td>\n      <td>USD</td>\n      <td>120000</td>\n      <td>CA</td>\n      <td>100</td>\n      <td>CA</td>\n      <td>M</td>\n    </tr>\n  </tbody>\n</table>\n</div>"
     },
     "execution_count": 23,
     "metadata": {},
     "output_type": "execute_result"
    }
   ],
   "source": [
    "from library import RSA\n",
    "import pandas as pd\n",
    "import rsa\n",
    "\n",
    "\n",
    "obj = RSA(512)\n",
    "\n",
    "USD_TO_INR = 82\n",
    "\n",
    "df = pd.read_csv(\"ds_salaries.csv\")\n",
    "\n",
    "df.head()"
   ]
  },
  {
   "cell_type": "code",
   "execution_count": 24,
   "outputs": [
    {
     "data": {
      "text/plain": "0        85847\n1        30000\n2        25500\n3       175000\n4       120000\n         ...  \n3750    412000\n3751    151000\n3752    105000\n3753    100000\n3754     94665\nName: salary_in_usd, Length: 3755, dtype: int64"
     },
     "execution_count": 24,
     "metadata": {},
     "output_type": "execute_result"
    }
   ],
   "source": [
    "df['salary_in_usd']"
   ],
   "metadata": {
    "collapsed": false,
    "ExecuteTime": {
     "start_time": "2023-05-15T14:30:27.573997Z",
     "end_time": "2023-05-15T14:30:27.591878Z"
    }
   }
  },
  {
   "cell_type": "code",
   "execution_count": 25,
   "outputs": [
    {
     "data": {
      "text/plain": "0        7039454\n1        2460000\n2        2091000\n3       14350000\n4        9840000\n          ...   \n3750    33784000\n3751    12382000\n3752     8610000\n3753     8200000\n3754     7762530\nName: salary_in_usd, Length: 3755, dtype: int64"
     },
     "execution_count": 25,
     "metadata": {},
     "output_type": "execute_result"
    }
   ],
   "source": [
    "# using encryption\n",
    "usd_df = df['salary_in_usd']\n",
    "e_usd_df = usd_df.apply(lambda elem: obj.encrypt(elem))\n",
    "e_inr_df = e_usd_df.apply(lambda elem: elem * obj.encrypt(USD_TO_INR))\n",
    "inr_df = e_inr_df.apply(lambda elem: obj.decrypt(elem))\n",
    "inr_df"
   ],
   "metadata": {
    "collapsed": false,
    "ExecuteTime": {
     "start_time": "2023-05-15T14:30:27.591878Z",
     "end_time": "2023-05-15T14:30:31.669016Z"
    }
   }
  },
  {
   "cell_type": "code",
   "execution_count": 26,
   "outputs": [
    {
     "data": {
      "text/plain": "0        7039454\n1        2460000\n2        2091000\n3       14350000\n4        9840000\n          ...   \n3750    33784000\n3751    12382000\n3752     8610000\n3753     8200000\n3754     7762530\nName: salary_in_usd, Length: 3755, dtype: int64"
     },
     "execution_count": 26,
     "metadata": {},
     "output_type": "execute_result"
    }
   ],
   "source": [
    "#direct conversion\n",
    "usd_df.apply(lambda elem: elem * USD_TO_INR)"
   ],
   "metadata": {
    "collapsed": false,
    "ExecuteTime": {
     "start_time": "2023-05-15T14:30:31.671018Z",
     "end_time": "2023-05-15T14:30:31.683934Z"
    }
   }
  },
  {
   "cell_type": "code",
   "execution_count": 27,
   "outputs": [
    {
     "data": {
      "text/plain": "0       2959846549010150564468730702138123749515141652...\n1       6363706037093217189816767380916679155908142400...\n2       2754283636046775335107925235258692367591472388...\n3       6458906159066449980842989335762103237916039415...\n4       7259324006770819236158167925304666826294783968...\n                              ...                        \n3750    8037254043638807977901881908837004420276410270...\n3751    2375082723924090354528579216758922140581794497...\n3752    4773019841845020986417246103916384960046728377...\n3753    2448701371800720189265075147401555032422683596...\n3754    2105631959426208244930465413034734861382832337...\nName: salary_in_usd, Length: 3755, dtype: object"
     },
     "execution_count": 27,
     "metadata": {},
     "output_type": "execute_result"
    }
   ],
   "source": [
    "e_usd_df"
   ],
   "metadata": {
    "collapsed": false,
    "ExecuteTime": {
     "start_time": "2023-05-15T14:30:31.689205Z",
     "end_time": "2023-05-15T14:30:31.747204Z"
    }
   }
  },
  {
   "cell_type": "code",
   "execution_count": 28,
   "outputs": [
    {
     "data": {
      "text/plain": "0       1985194843520063146720659514520721628894110630...\n1       4268193030054148896163807028529035852395068162...\n2       1847322008534638177155521106791227885608073274...\n3       4332044580502582183002450945151697143342513545...\n4       4868891797955642029618620502475114065884014825...\n                              ...                        \n3750    5390656244942318453139228779937730947644850643...\n3751    1592988656133037982149114423269828515107829801...\n3752    3201305953248993221138022899429218466659077750...\n3753    1642365324055393707205953279387421130538718522...\n3754    1412265683030725298479736618120974628820912595...\nName: salary_in_usd, Length: 3755, dtype: object"
     },
     "execution_count": 28,
     "metadata": {},
     "output_type": "execute_result"
    }
   ],
   "source": [
    "e_inr_df"
   ],
   "metadata": {
    "collapsed": false,
    "ExecuteTime": {
     "start_time": "2023-05-15T14:30:31.702867Z",
     "end_time": "2023-05-15T14:30:31.748210Z"
    }
   }
  },
  {
   "cell_type": "code",
   "execution_count": 29,
   "outputs": [],
   "source": [
    "usd_df.to_csv(\"usd_df.csv\")\n",
    "e_usd_df.to_csv(\"e_usd_df.csv\")"
   ],
   "metadata": {
    "collapsed": false,
    "ExecuteTime": {
     "start_time": "2023-05-15T14:30:31.720812Z",
     "end_time": "2023-05-15T14:30:31.979664Z"
    }
   }
  },
  {
   "cell_type": "code",
   "execution_count": 30,
   "outputs": [],
   "source": [
    "(pub, priv) = rsa.newkeys(512)"
   ],
   "metadata": {
    "collapsed": false,
    "ExecuteTime": {
     "start_time": "2023-05-15T14:30:31.984663Z",
     "end_time": "2023-05-15T14:30:32.154055Z"
    }
   }
  },
  {
   "cell_type": "code",
   "execution_count": 52,
   "outputs": [
    {
     "data": {
      "text/plain": "b'\\x03:\\xac\\xcb\\xea\\xcd\\xa5\\x87\\xd4\\xe7\\x82\\xf0n\\xe5rm\\xe4\\xf6c{\\x90\\xd1\\xc2+\\x0c\\xbf\\xaf\\xca\\xc9+*2\\xff\\x02!\\x9f\\x9c\\xf2\\t\\xb5\\xee9\\xba\\x17\\xcfi#0@\\x14\\x05\\xf7\\x0bB\\x87\\x9a\\xde\\xfd*8\\xf8\\xd2\\xd4\\xb3'"
     },
     "execution_count": 52,
     "metadata": {},
     "output_type": "execute_result"
    }
   ],
   "source": [
    "rsa.encrypt(usd_df.head().to_json().encode('utf-8'), pub)"
   ],
   "metadata": {
    "collapsed": false,
    "ExecuteTime": {
     "start_time": "2023-05-15T14:31:03.707556Z",
     "end_time": "2023-05-15T14:31:03.724106Z"
    }
   }
  },
  {
   "cell_type": "code",
   "execution_count": 57,
   "outputs": [
    {
     "data": {
      "text/plain": "0    2959846549010150564468730702138123749515141652...\n1    6363706037093217189816767380916679155908142400...\n2    2754283636046775335107925235258692367591472388...\n3    6458906159066449980842989335762103237916039415...\n4    7259324006770819236158167925304666826294783968...\nName: salary_in_usd, dtype: object"
     },
     "execution_count": 57,
     "metadata": {},
     "output_type": "execute_result"
    }
   ],
   "source": [
    "usd_df.head().apply(lambda elem: obj.encrypt(elem))"
   ],
   "metadata": {
    "collapsed": false,
    "ExecuteTime": {
     "start_time": "2023-05-15T14:31:09.178214Z",
     "end_time": "2023-05-15T14:31:09.195946Z"
    }
   }
  },
  {
   "cell_type": "code",
   "execution_count": 33,
   "outputs": [
    {
     "data": {
      "text/plain": "0     85847\n1     30000\n2     25500\n3    175000\n4    120000\nName: salary_in_usd, dtype: int64"
     },
     "execution_count": 33,
     "metadata": {},
     "output_type": "execute_result"
    }
   ],
   "source": [
    "usd_df.head()"
   ],
   "metadata": {
    "collapsed": false,
    "ExecuteTime": {
     "start_time": "2023-05-15T14:30:32.187292Z",
     "end_time": "2023-05-15T14:30:32.259436Z"
    }
   }
  },
  {
   "cell_type": "code",
   "execution_count": 33,
   "outputs": [],
   "source": [],
   "metadata": {
    "collapsed": false,
    "ExecuteTime": {
     "start_time": "2023-05-15T14:30:32.205386Z",
     "end_time": "2023-05-15T14:30:32.260421Z"
    }
   }
  }
 ],
 "metadata": {
  "kernelspec": {
   "display_name": "Python 3",
   "language": "python",
   "name": "python3"
  },
  "language_info": {
   "codemirror_mode": {
    "name": "ipython",
    "version": 2
   },
   "file_extension": ".py",
   "mimetype": "text/x-python",
   "name": "python",
   "nbconvert_exporter": "python",
   "pygments_lexer": "ipython2",
   "version": "2.7.6"
  }
 },
 "nbformat": 4,
 "nbformat_minor": 0
}
